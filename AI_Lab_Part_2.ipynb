{
  "nbformat": 4,
  "nbformat_minor": 0,
  "metadata": {
    "colab": {
      "name": "AI_Lab_Part_2.ipynb",
      "provenance": [],
      "collapsed_sections": [],
      "include_colab_link": true
    },
    "kernelspec": {
      "name": "python3",
      "display_name": "Python 3"
    },
    "language_info": {
      "name": "python"
    }
  },
  "cells": [
    {
      "cell_type": "markdown",
      "metadata": {
        "id": "view-in-github",
        "colab_type": "text"
      },
      "source": [
        "<a href=\"https://colab.research.google.com/github/Alam-369/Toxic-Coment/blob/main/AI_Lab_Part_2.ipynb\" target=\"_parent\"><img src=\"https://colab.research.google.com/assets/colab-badge.svg\" alt=\"Open In Colab\"/></a>"
      ]
    },
    {
      "cell_type": "code",
      "metadata": {
        "id": "OxjlWVIOz0zT"
      },
      "source": [
        "import pandas as pd\n",
        "import numpy as np\n",
        "import seaborn as sns\n",
        "import matplotlib.pyplot as plt\n",
        "from sklearn.preprocessing import LabelEncoder\n",
        "from sklearn.feature_extraction.text import TfidfVectorizer\n",
        "from sklearn.model_selection import train_test_split\n",
        "from sklearn.metrics import classification_report,accuracy_score,precision_score,recall_score,f1_score\n",
        "from tensorflow.keras.preprocessing.text import Tokenizer\n",
        "import nltk \n",
        "import string\n",
        "import json\n",
        "import re\n",
        "%matplotlib inline\n",
        "\n",
        "\n"
      ],
      "execution_count": null,
      "outputs": []
    },
    {
      "cell_type": "code",
      "metadata": {
        "colab": {
          "resources": {
            "http://localhost:8080/nbextensions/google.colab/files.js": {
              "data": "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",
              "ok": true,
              "headers": [
                [
                  "content-type",
                  "application/javascript"
                ]
              ],
              "status": 200,
              "status_text": ""
            }
          },
          "base_uri": "https://localhost:8080/",
          "height": 72
        },
        "id": "SiYrsEKegZ4s",
        "outputId": "e18b6c27-12fd-47c8-c587-df3302b27c5b"
      },
      "source": [
        "from google.colab import files\n",
        "  \n",
        "  \n",
        "uploaded = files.upload()\n"
      ],
      "execution_count": null,
      "outputs": [
        {
          "output_type": "display_data",
          "data": {
            "text/html": [
              "\n",
              "     <input type=\"file\" id=\"files-842fa2d8-8a8f-4cd8-96d4-a83ccb203d74\" name=\"files[]\" multiple disabled\n",
              "        style=\"border:none\" />\n",
              "     <output id=\"result-842fa2d8-8a8f-4cd8-96d4-a83ccb203d74\">\n",
              "      Upload widget is only available when the cell has been executed in the\n",
              "      current browser session. Please rerun this cell to enable.\n",
              "      </output>\n",
              "      <script src=\"/nbextensions/google.colab/files.js\"></script> "
            ],
            "text/plain": [
              "<IPython.core.display.HTML object>"
            ]
          },
          "metadata": {
            "tags": []
          }
        },
        {
          "output_type": "stream",
          "text": [
            "Saving AI_Part2 .csv to AI_Part2  (1).csv\n"
          ],
          "name": "stdout"
        }
      ]
    },
    {
      "cell_type": "code",
      "metadata": {
        "id": "CUHOn7-ZjhnN"
      },
      "source": [
        "import io\n",
        "data = pd.read_csv(io.BytesIO(uploaded['AI_Part2 .csv']))\n"
      ],
      "execution_count": null,
      "outputs": []
    },
    {
      "cell_type": "code",
      "metadata": {
        "colab": {
          "base_uri": "https://localhost:8080/"
        },
        "id": "igN17W8Ux5Oo",
        "outputId": "37ba873d-2949-423d-d424-a454bb573e6e"
      },
      "source": [
        "data.drop(data.index[0],inplace = True)\n",
        "\n",
        "\n",
        "print(data)\n"
      ],
      "execution_count": null,
      "outputs": [
        {
          "output_type": "stream",
          "text": [
            "       Unnamed: 0                                               Data  Sentiment\n",
            "1               1                 অতটুকু ভাত দিয়ে এত কিছু খেতে দিছে।         -1\n",
            "2               2  আর কোন খাবারের রিভিউ দিতে পারল না দিতে গেলো কল...         -1\n",
            "3               3  একদম সত্যি রিভিউ দিয়েছেন।। সত্যিই সুদীপা দি ম...         -1\n",
            "4               4  কলকাতার অনেক নামকরা জায়গায় খেয়েছি কিন্তু এমন দাম?         -1\n",
            "5               5  আপনি তো বাংলাদেশের একজন অভিনেতা । এত বাজে উচ্চ...         -2\n",
            "...           ...                                                ...        ...\n",
            "31377       31377  এইজন্যই বুঝলেন, পেইড রিভিউ করতে আমাদের খুব ভাল...          0\n",
            "31378       31378  ৬ থেকে ৯ হাজার পার হেড। আমার কাছে নাম্বার নাই ...          0\n",
            "31379       31379  এখানে তো দেখছি এক পক্ষ হরিলুট শুরু করে দিয়েছে ...         -2\n",
            "31380       31380                         আর কত কিছু দেখবো বিড়ি বাবা         -2\n",
            "31381       31381     মিডিয়ার সামনে মুখ দেখায় কিভাবে খানকির পোলায়         -2\n",
            "\n",
            "[31381 rows x 3 columns]\n"
          ],
          "name": "stdout"
        }
      ]
    },
    {
      "cell_type": "code",
      "metadata": {
        "colab": {
          "base_uri": "https://localhost:8080/"
        },
        "id": "-ux8gfBq1AE8",
        "outputId": "2a7083d5-f7b8-4b4d-82de-f07c2541b230"
      },
      "source": [
        "data.dtypes"
      ],
      "execution_count": null,
      "outputs": [
        {
          "output_type": "execute_result",
          "data": {
            "text/plain": [
              "Unnamed: 0     int64\n",
              "Data          object\n",
              "Sentiment      int64\n",
              "dtype: object"
            ]
          },
          "metadata": {
            "tags": []
          },
          "execution_count": 5
        }
      ]
    },
    {
      "cell_type": "code",
      "metadata": {
        "colab": {
          "base_uri": "https://localhost:8080/"
        },
        "id": "IpulbraX1Ers",
        "outputId": "498ca0a9-27fd-41a8-8969-11376f9a3486"
      },
      "source": [
        "print(len(data[data.Sentiment== 2]))\n",
        "print(len(data[data.Sentiment== 1]))\n",
        "print(len(data[data.Sentiment== 0]))\n",
        "print(len(data[data.Sentiment== -1]))\n",
        "print(len(data[data.Sentiment== -2]))"
      ],
      "execution_count": null,
      "outputs": [
        {
          "output_type": "stream",
          "text": [
            "6268\n",
            "5958\n",
            "10214\n",
            "3750\n",
            "5190\n"
          ],
          "name": "stdout"
        }
      ]
    },
    {
      "cell_type": "code",
      "metadata": {
        "colab": {
          "base_uri": "https://localhost:8080/",
          "height": 231
        },
        "id": "APJndya_qfEf",
        "outputId": "15910f07-baed-437e-e983-26d34f03ac6b"
      },
      "source": [
        "\n",
        "data1['value']={}\n",
        "sns.set(font_scale=1.4)\n",
        "#data['Sentiment'].value_counts().plot(kind='barh', figsize=(6, 4))\n",
        "plt.xlabel(\"Number of Comments\", labelpad=12)\n",
        "plt.ylabel(\"Sentiment Class\", labelpad=12)\n",
        "plt.yticks(rotation = 45)\n",
        "plt.title(\"Dataset Distribution\", y=1.02);"
      ],
      "execution_count": null,
      "outputs": [
        {
          "output_type": "error",
          "ename": "NameError",
          "evalue": "ignored",
          "traceback": [
            "\u001b[0;31m---------------------------------------------------------------------------\u001b[0m",
            "\u001b[0;31mNameError\u001b[0m                                 Traceback (most recent call last)",
            "\u001b[0;32m<ipython-input-2-f133870681f9>\u001b[0m in \u001b[0;36m<module>\u001b[0;34m()\u001b[0m\n\u001b[1;32m      1\u001b[0m \u001b[0;34m\u001b[0m\u001b[0m\n\u001b[0;32m----> 2\u001b[0;31m \u001b[0mdata1\u001b[0m\u001b[0;34m[\u001b[0m\u001b[0;34m'value'\u001b[0m\u001b[0;34m]\u001b[0m\u001b[0;34m=\u001b[0m\u001b[0;34m{\u001b[0m\u001b[0;34m}\u001b[0m\u001b[0;34m\u001b[0m\u001b[0;34m\u001b[0m\u001b[0m\n\u001b[0m\u001b[1;32m      3\u001b[0m \u001b[0msns\u001b[0m\u001b[0;34m.\u001b[0m\u001b[0mset\u001b[0m\u001b[0;34m(\u001b[0m\u001b[0mfont_scale\u001b[0m\u001b[0;34m=\u001b[0m\u001b[0;36m1.4\u001b[0m\u001b[0;34m)\u001b[0m\u001b[0;34m\u001b[0m\u001b[0;34m\u001b[0m\u001b[0m\n\u001b[1;32m      4\u001b[0m \u001b[0;31m#data['Sentiment'].value_counts().plot(kind='barh', figsize=(6, 4))\u001b[0m\u001b[0;34m\u001b[0m\u001b[0;34m\u001b[0m\u001b[0;34m\u001b[0m\u001b[0m\n\u001b[1;32m      5\u001b[0m \u001b[0mplt\u001b[0m\u001b[0;34m.\u001b[0m\u001b[0mxlabel\u001b[0m\u001b[0;34m(\u001b[0m\u001b[0;34m\"Number of Comments\"\u001b[0m\u001b[0;34m,\u001b[0m \u001b[0mlabelpad\u001b[0m\u001b[0;34m=\u001b[0m\u001b[0;36m12\u001b[0m\u001b[0;34m)\u001b[0m\u001b[0;34m\u001b[0m\u001b[0;34m\u001b[0m\u001b[0m\n",
            "\u001b[0;31mNameError\u001b[0m: name 'data1' is not defined"
          ]
        }
      ]
    },
    {
      "cell_type": "markdown",
      "metadata": {
        "id": "Jk5Vc4AJ0RF3"
      },
      "source": [
        "# Cleaning Data"
      ]
    },
    {
      "cell_type": "code",
      "metadata": {
        "id": "Sf0491Px4KyR"
      },
      "source": [
        "def process_comments(comment): \n",
        "    comment = re.sub('[^\\u0980-\\u09FF]',' ',str(comment))\n",
        "    return comment\n",
        "data['cleaned'] = data['Data'].apply(process_comments)  \n"
      ],
      "execution_count": null,
      "outputs": []
    },
    {
      "cell_type": "code",
      "metadata": {
        "colab": {
          "base_uri": "https://localhost:8080/"
        },
        "id": "3_d7kile4WKt",
        "outputId": "6907aa3a-0e0f-4157-fe48-21e04f767047"
      },
      "source": [
        "for i in range(100):\n",
        "  if i>0:\n",
        "    print('Original:\\n',data.Data[i],'\\nCleaned:\\n',\n",
        "           data.cleaned[i],'\\n','Sentiment:-- ',data.Sentiment[i],'\\n')"
      ],
      "execution_count": null,
      "outputs": [
        {
          "output_type": "stream",
          "text": [
            "Original:\n",
            " অতটুকু ভাত দিয়ে এত কিছু খেতে দিছে। \n",
            "Cleaned:\n",
            " অতটুকু ভাত দিয়ে এত কিছু খেতে দিছে  \n",
            " Sentiment:--  -1 \n",
            "\n",
            "Original:\n",
            " আর কোন খাবারের রিভিউ দিতে পারল না দিতে গেলো কলকাতার বাঙ্গালির খাবারের রিভিউ। আমরা বাংলাদেশীরা মনে হয় এসব রান্না খেয়ে স্বাদ পাব না।রান্না বাজে ধরনের \n",
            "Cleaned:\n",
            " আর কোন খাবারের রিভিউ দিতে পারল না দিতে গেলো কলকাতার বাঙ্গালির খাবারের রিভিউ  আমরা বাংলাদেশীরা মনে হয় এসব রান্না খেয়ে স্বাদ পাব না রান্না বাজে ধরনের \n",
            " Sentiment:--  -1 \n",
            "\n",
            "Original:\n",
            " একদম সত্যি রিভিউ দিয়েছেন।। সত্যিই সুদীপা দি মিষ্টি কথায় ডাকাতি শুরু করেছে \n",
            "Cleaned:\n",
            " একদম সত্যি রিভিউ দিয়েছেন   সত্যিই সুদীপা দি মিষ্টি কথায় ডাকাতি শুরু করেছে \n",
            " Sentiment:--  -1 \n",
            "\n",
            "Original:\n",
            " কলকাতার অনেক নামকরা জায়গায় খেয়েছি কিন্তু এমন দাম? \n",
            "Cleaned:\n",
            " কলকাতার অনেক নামকরা জায়গায় খেয়েছি কিন্তু এমন দাম  \n",
            " Sentiment:--  -1 \n",
            "\n",
            "Original:\n",
            " আপনি তো বাংলাদেশের একজন অভিনেতা । এত বাজে উচ্চারণ কেন আপনার? \"আছে \"  বলতে পারেন না? \"আসে\" টা আবার কি? \n",
            "Cleaned:\n",
            " আপনি তো বাংলাদেশের একজন অভিনেতা   এত বাজে উচ্চারণ কেন আপনার   আছে    বলতে পারেন না   আসে  টা আবার কি  \n",
            " Sentiment:--  -2 \n",
            "\n",
            "Original:\n",
            " তাই বলি ন্যেকিটা সিরিয়াল ছেড়ে রান্নাঘরে কেন ঢুকলো! \n",
            "Cleaned:\n",
            " তাই বলি ন্যেকিটা সিরিয়াল ছেড়ে রান্নাঘরে কেন ঢুকলো  \n",
            " Sentiment:--  -1 \n",
            "\n",
            "Original:\n",
            " এই জন্যেই তো কাস্টমার সব উদাও। শুধু চেয়ার-টেবিল পড়ে আছে \n",
            "Cleaned:\n",
            " এই জন্যেই তো কাস্টমার সব উদাও  শুধু চেয়ার টেবিল পড়ে আছে \n",
            " Sentiment:--  0 \n",
            "\n",
            "Original:\n",
            " খাবার গুলো আরও সৌন্দর্য পায় আপনার সাবলীল উপস্থাপনা এর জন্য, ভালো থাকবেন।।।। \n",
            "Cleaned:\n",
            " খাবার গুলো আরও সৌন্দর্য পায় আপনার সাবলীল উপস্থাপনা এর জন্য  ভালো থাকবেন     \n",
            " Sentiment:--  2 \n",
            "\n",
            "Original:\n",
            " সুদীপা রান্না ঘর টা অতি সুন্দর \n",
            "Cleaned:\n",
            " সুদীপা রান্না ঘর টা অতি সুন্দর \n",
            " Sentiment:--  2 \n",
            "\n",
            "Original:\n",
            " সুদীপা দি একজন ভদ্রমহিলা তাই তাকে বেশি কথা বলছেন কেনো? দাম বেশি হবার কারন আছে \n",
            "Cleaned:\n",
            " সুদীপা দি একজন ভদ্রমহিলা তাই তাকে বেশি কথা বলছেন কেনো  দাম বেশি হবার কারন আছে \n",
            " Sentiment:--  -1 \n",
            "\n",
            "Original:\n",
            " আদনান, কলকাতায় আবারও স্বাগতম। একটা ছোট্ট উপদেশ, দেশে বিদেশে যেখানেই থাকুন, মাইন ফিল্ড (বুবি ট্রাপ ) গুলো এড়িয়ে চলবেন। নিজেকে নিরাপদ রাখার প্রাথমিক শর্ত। \n",
            "Cleaned:\n",
            " আদনান  কলকাতায় আবারও স্বাগতম  একটা ছোট্ট উপদেশ  দেশে বিদেশে যেখানেই থাকুন  মাইন ফিল্ড  বুবি ট্রাপ   গুলো এড়িয়ে চলবেন  নিজেকে নিরাপদ রাখার প্রাথমিক শর্ত  \n",
            " Sentiment:--  2 \n",
            "\n",
            "Original:\n",
            " অভিনেতা ছিলি সেটাই ভালো ছিল ,এখন ডং করতে গেছে ।এভাবে চবলাইয়া কেউ খায় ।এত শব্দ করে খায় নাকি বলদ একটা । \n",
            "Cleaned:\n",
            " অভিনেতা ছিলি সেটাই ভালো ছিল  এখন ডং করতে গেছে  এভাবে চবলাইয়া কেউ খায়  এত শব্দ করে খায় নাকি বলদ একটা   \n",
            " Sentiment:--  -2 \n",
            "\n",
            "Original:\n",
            " মাটন খাচ্ছ,  হারাম নাকি হালাল তাও জাজ করছো না?  \n",
            "Cleaned:\n",
            " মাটন খাচ্ছ   হারাম নাকি হালাল তাও জাজ করছো না   \n",
            " Sentiment:--  -1 \n",
            "\n",
            "Original:\n",
            " সর্বনাশ ৷ এত দাম । খাবার ইচ্ছে আর হল না \n",
            "Cleaned:\n",
            " সর্বনাশ ৷ এত দাম   খাবার ইচ্ছে আর হল না \n",
            " Sentiment:--  -2 \n",
            "\n",
            "Original:\n",
            " এভাবে চললে তো আরব দেশের ধন কুবের রাও ওমা মাগো বলে চিল্লাবে. রান্নাঘর এ খাবার পর বিল দিতে গিয়ে যদি কান্না পায় তাহলে দিদির রান্নাঘর এর নাম বদলে কান্নাঘর রাখা উচিত.২৫০ টাকার ভাত ? ১০০ টাকার পানীয় জল ? নিন্দুকেরা বলছে আর্থিক অবনতি, নোটবন্দির জেরে লোকে নাকি আজকাল পেছন ধুতে ভয় পাচ্ছে? অত শত বুঝিনা বাপু তবে এভাবে চললে ওনার রান্নাঘর পুরো মায়ের ভোগে যাবে এটুকু জানি । \n",
            "Cleaned:\n",
            " এভাবে চললে তো আরব দেশের ধন কুবের রাও ওমা মাগো বলে চিল্লাবে  রান্নাঘর এ খাবার পর বিল দিতে গিয়ে যদি কান্না পায় তাহলে দিদির রান্নাঘর এর নাম বদলে কান্নাঘর রাখা উচিত ২৫০ টাকার ভাত   ১০০ টাকার পানীয় জল   নিন্দুকেরা বলছে আর্থিক অবনতি  নোটবন্দির জেরে লোকে নাকি আজকাল পেছন ধুতে ভয় পাচ্ছে  অত শত বুঝিনা বাপু তবে এভাবে চললে ওনার রান্নাঘর পুরো মায়ের ভোগে যাবে এটুকু জানি   \n",
            " Sentiment:--  -2 \n",
            "\n",
            "Original:\n",
            " পুরো রেস্টুরেন্ট ফাঁকা \n",
            "Cleaned:\n",
            " পুরো রেস্টুরেন্ট ফাঁকা \n",
            " Sentiment:--  0 \n",
            "\n",
            "Original:\n",
            " সুদীপার রান্নাঘরে কোন কাস্টমার নেই. কারন একবার মানুষ ঢুকলে, মুরগি হয়ে বার হবে \n",
            "Cleaned:\n",
            " সুদীপার রান্নাঘরে কোন কাস্টমার নেই  কারন একবার মানুষ ঢুকলে  মুরগি হয়ে বার হবে \n",
            " Sentiment:--  -2 \n",
            "\n",
            "Original:\n",
            " ক্যামেরা এতো পরিমাণ নাড়াচ্ছে যে আপনার ফেস টা যে ভালো ভাবে লক্ষ করে কথা গুলি শুনবো সেটা আর হচ্ছে না \n",
            "Cleaned:\n",
            " ক্যামেরা এতো পরিমাণ নাড়াচ্ছে যে আপনার ফেস টা যে ভালো ভাবে লক্ষ করে কথা গুলি শুনবো সেটা আর হচ্ছে না \n",
            " Sentiment:--  -1 \n",
            "\n",
            "Original:\n",
            " সুদিপা ভদ্রমহিলা এই কমেন্টস গুলো পড়লে রেস্টুরেন্ট অফ করে দিবে। আদনান ভাই বাম হাতে খান কেন? \n",
            "Cleaned:\n",
            " সুদিপা ভদ্রমহিলা এই কমেন্টস গুলো পড়লে রেস্টুরেন্ট অফ করে দিবে  আদনান ভাই বাম হাতে খান কেন  \n",
            " Sentiment:--  -1 \n",
            "\n",
            "Original:\n",
            " দাদা প্লীজ আহেলী নিয়ে ১ টা ফুড ব্লগ বানান। আর বিল টা শেয়ার করতে ভুলবেন না। প্লীজ বানান। অনেক শুনেছি আহেলির ব্যাপারে।প্লীজ \n",
            "Cleaned:\n",
            " দাদা প্লীজ আহেলী নিয়ে ১ টা ফুড ব্লগ বানান  আর বিল টা শেয়ার করতে ভুলবেন না  প্লীজ বানান  অনেক শুনেছি আহেলির ব্যাপারে প্লীজ \n",
            " Sentiment:--  0 \n",
            "\n",
            "Original:\n",
            " ভাইয়া  এটা ত গুনে চলে না চলে ত দিদির নামে তাই এত দাম \n",
            "Cleaned:\n",
            " ভাইয়া  এটা ত গুনে চলে না চলে ত দিদির নামে তাই এত দাম \n",
            " Sentiment:--  -1 \n",
            "\n",
            "Original:\n",
            " কাচ্চি বিরানির দামে ভাত পাইলেন।ভালই ত। \n",
            "Cleaned:\n",
            " কাচ্চি বিরানির দামে ভাত পাইলেন ভালই ত  \n",
            " Sentiment:--  -1 \n",
            "\n",
            "Original:\n",
            " সুদীপাও জানে যে একবার ওর রান্না ঘরে যাবে সে আর দ্বিতীয় বার যাবে না। তাই একবারেই তিন চার বারের দাম নিয়ে নিচ্ছে। \n",
            "Cleaned:\n",
            " সুদীপাও জানে যে একবার ওর রান্না ঘরে যাবে সে আর দ্বিতীয় বার যাবে না  তাই একবারেই তিন চার বারের দাম নিয়ে নিচ্ছে  \n",
            " Sentiment:--  -2 \n",
            "\n",
            "Original:\n",
            " মাংস যে খাচ্ছেন  আল্লাহু আকবর বলে  জবাই করেছে তো, মুসলমান হয়ে কিভাবে  খান মাংস খান, \n",
            "Cleaned:\n",
            " মাংস যে খাচ্ছেন  আল্লাহু আকবর বলে  জবাই করেছে তো  মুসলমান হয়ে কিভাবে  খান মাংস খান  \n",
            " Sentiment:--  -1 \n",
            "\n",
            "Original:\n",
            " এই সব খাবার খেতে কত টকা লাগল \n",
            "Cleaned:\n",
            " এই সব খাবার খেতে কত টকা লাগল \n",
            " Sentiment:--  0 \n",
            "\n",
            "Original:\n",
            " সিলেটে বিখ্যাত পাচ ভাই পানসি রেস্টুরেন্টে ভাত আর ঘন ডাল ফ্রি,  আনলিমিটেড যত ইচ্ছা খান. \n",
            "Cleaned:\n",
            " সিলেটে বিখ্যাত পাচ ভাই পানসি রেস্টুরেন্টে ভাত আর ঘন ডাল ফ্রি   আনলিমিটেড যত ইচ্ছা খান  \n",
            " Sentiment:--  2 \n",
            "\n",
            "Original:\n",
            " ৫০ টাকায় নানান রকম ভর্তা \n",
            "Cleaned:\n",
            " ৫০ টাকায় নানান রকম ভর্তা \n",
            " Sentiment:--  0 \n",
            "\n",
            "Original:\n",
            " অসংখ্য ধন্যবাদ সাহস দেখাবার জন্য \n",
            "Cleaned:\n",
            " অসংখ্য ধন্যবাদ সাহস দেখাবার জন্য \n",
            " Sentiment:--  2 \n",
            "\n",
            "Original:\n",
            " আমাগো দেশে শুধুমাত্র পানির দাম বেশি রাখার জন্য ভোক্তায় মামলা খাইতো,  আর ৫০ হাজার জরিমানা দিতো সুদীপা আন্টি \n",
            "Cleaned:\n",
            " আমাগো দেশে শুধুমাত্র পানির দাম বেশি রাখার জন্য ভোক্তায় মামলা খাইতো   আর ৫০ হাজার জরিমানা দিতো সুদীপা আন্টি \n",
            " Sentiment:--  -1 \n",
            "\n",
            "Original:\n",
            " থালির সাথে অতিরিক্ত ভাতের জন্য ২৫০ টাকা ,!   এতো পুরো জালি রেস্টুরেন্ট ,!  যেমন মালকিন তেমন দোকান। \n",
            "Cleaned:\n",
            " থালির সাথে অতিরিক্ত ভাতের জন্য ২৫০ টাকা      এতো পুরো জালি রেস্টুরেন্ট     যেমন মালকিন তেমন দোকান  \n",
            " Sentiment:--  -2 \n",
            "\n",
            "Original:\n",
            " অতিরিক্ত দাম রাখা হয়েছে। বাংলাদেশ থেকে লিখলাম। \n",
            "Cleaned:\n",
            " অতিরিক্ত দাম রাখা হয়েছে  বাংলাদেশ থেকে লিখলাম  \n",
            " Sentiment:--  -1 \n",
            "\n",
            "Original:\n",
            " আদনান ফারুক হিল্লোল, (হিল্লোল নামেই বেশি পরিচিত) বাংলাদেশের একজন খ্যাতনামা অভিনেতা  বহু টিভি সিরিয়ালে অভিনয় করেছেন \n",
            "Cleaned:\n",
            " আদনান ফারুক হিল্লোল   হিল্লোল নামেই বেশি পরিচিত  বাংলাদেশের একজন খ্যাতনামা অভিনেতা  বহু টিভি সিরিয়ালে অভিনয় করেছেন \n",
            " Sentiment:--  0 \n",
            "\n",
            "Original:\n",
            " আপনার খাওয়া না ছাড়া জীবনে কি আর কোন কাজ নাই.? \n",
            "Cleaned:\n",
            " আপনার খাওয়া না ছাড়া জীবনে কি আর কোন কাজ নাই   \n",
            " Sentiment:--  -1 \n",
            "\n",
            "Original:\n",
            " এই পৃথিবীতে খাওয়াটাই হচ্ছে চরম সত্য \n",
            "Cleaned:\n",
            " এই পৃথিবীতে খাওয়াটাই হচ্ছে চরম সত্য \n",
            " Sentiment:--  0 \n",
            "\n",
            "Original:\n",
            " এত বেশী দামে জঘন্য খাবার খেয়ে ৩ দিন হাগা বন্ধ রাখতে পারলে টাকা উসুল হবে। \n",
            "Cleaned:\n",
            " এত বেশী দামে জঘন্য খাবার খেয়ে ৩ দিন হাগা বন্ধ রাখতে পারলে টাকা উসুল হবে  \n",
            " Sentiment:--  -2 \n",
            "\n",
            "Original:\n",
            " সুদীপার রান্নাঘরের মালিক কি জি বাংলার সুদীপাদি? \n",
            "Cleaned:\n",
            " সুদীপার রান্নাঘরের মালিক কি জি বাংলার সুদীপাদি  \n",
            " Sentiment:--  0 \n",
            "\n",
            "Original:\n",
            " ঢাকার চেয়েও যে কলকাতায় ভাতের দাম বেশি, এটা জানা ছিল না। \n",
            "Cleaned:\n",
            " ঢাকার চেয়েও যে কলকাতায় ভাতের দাম বেশি  এটা জানা ছিল না  \n",
            " Sentiment:--  -1 \n",
            "\n",
            "Original:\n",
            " ইচ্ছা ছিল কলকাতায় গেলে সুদীপার রান্নাঘরে খেতে যাবো।কিন্তু  খাবারের দাম দেখে সে ইচ্ছাটাই মরে   গেলো। \n",
            "Cleaned:\n",
            " ইচ্ছা ছিল কলকাতায় গেলে সুদীপার রান্নাঘরে খেতে যাবো কিন্তু  খাবারের দাম দেখে সে ইচ্ছাটাই মরে   গেলো  \n",
            " Sentiment:--  -1 \n",
            "\n",
            "Original:\n",
            " নমস্কার দাদা। আপনার চ্যানেলটা আমি মাঝেমধ্যেই দেখি, এবারের প্রতিবেদনটি দেখে আমার খুব ভালো লাগলো। যদি পারেন তাহলে কলকাতার পাইস হোটেল যেগুলো আছে সেখানকার যদি ভিডিও করেন তাহলে আরো ভাল লাগবে'। সাথে আমি এটাও বলতে পারি যে এতদিন পর্যন্ত যেখানে আপনি বাঙালি খাবার খেয়ে থাকুন না কেন এই পায়েস হোটেলের খাবার খেলে আপনি সারাজীবনেও এদের সাদ ভুলতে পারবেন না। একবার ট্রাই করে দেখুন, গ্যারান্টি দিলাম আপনি কখনোই আপনি আমাকে ভুলবেন না এগুলো রিকমেন্ড করার জন্য। \n",
            "Cleaned:\n",
            " নমস্কার দাদা  আপনার চ্যানেলটা আমি মাঝেমধ্যেই দেখি  এবারের প্রতিবেদনটি দেখে আমার খুব ভালো লাগলো  যদি পারেন তাহলে কলকাতার পাইস হোটেল যেগুলো আছে সেখানকার যদি ভিডিও করেন তাহলে আরো ভাল লাগবে   সাথে আমি এটাও বলতে পারি যে এতদিন পর্যন্ত যেখানে আপনি বাঙালি খাবার খেয়ে থাকুন না কেন এই পায়েস হোটেলের খাবার খেলে আপনি সারাজীবনেও এদের সাদ ভুলতে পারবেন না  একবার ট্রাই করে দেখুন  গ্যারান্টি দিলাম আপনি কখনোই আপনি আমাকে ভুলবেন না এগুলো রিকমেন্ড করার জন্য  \n",
            " Sentiment:--  2 \n",
            "\n",
            "Original:\n",
            " আপনার খাওয়া দেখে তো জিবে জল আইসা গেলো \n",
            "Cleaned:\n",
            " আপনার খাওয়া দেখে তো জিবে জল আইসা গেলো \n",
            " Sentiment:--  1 \n",
            "\n",
            "Original:\n",
            " ভাই এখন তোর চ্যানেলটাকে ইন্ডিয়ান চ্যানেল মনে হয় \n",
            "Cleaned:\n",
            " ভাই এখন তোর চ্যানেলটাকে ইন্ডিয়ান চ্যানেল মনে হয় \n",
            " Sentiment:--  -1 \n",
            "\n",
            "Original:\n",
            " সুড়ুৎ সাড়ুত করে খাওয়া বাদ দেন প্লিজ, কাকু! \n",
            "Cleaned:\n",
            " সুড়ুৎ সাড়ুত করে খাওয়া বাদ দেন প্লিজ  কাকু  \n",
            " Sentiment:--  -1 \n",
            "\n",
            "Original:\n",
            " আপনার খাওয়ার স্টাইল টা বদলান। খাওয়ার স্টাইল টা আরও লোভনীয় করা যেত। \n",
            "Cleaned:\n",
            " আপনার খাওয়ার স্টাইল টা বদলান  খাওয়ার স্টাইল টা আরও লোভনীয় করা যেত  \n",
            " Sentiment:--  -1 \n",
            "\n",
            "Original:\n",
            " এটা ভীষণ বাজে এবং খাবারের দাম অস্বাভাবিক রকমের বেশি। \n",
            "Cleaned:\n",
            " এটা ভীষণ বাজে এবং খাবারের দাম অস্বাভাবিক রকমের বেশি  \n",
            " Sentiment:--  -2 \n",
            "\n",
            "Original:\n",
            " হিল্লোলরা তুই কি হিন্দু নাকি \n",
            "Cleaned:\n",
            " হিল্লোলরা তুই কি হিন্দু নাকি \n",
            " Sentiment:--  -2 \n",
            "\n",
            "Original:\n",
            " চুদিপার রান্না ঘর \n",
            "Cleaned:\n",
            " চুদিপার রান্না ঘর \n",
            " Sentiment:--  -2 \n",
            "\n",
            "Original:\n",
            " পুরাই ডাকাতি।  গলাকাটা দাম। আজাইরা। মানুষ যায় কেন ওখানে। \n",
            "Cleaned:\n",
            " পুরাই ডাকাতি   গলাকাটা দাম  আজাইরা  মানুষ যায় কেন ওখানে  \n",
            " Sentiment:--  -2 \n",
            "\n",
            "Original:\n",
            " মা গো সুদীপাতো ব্যবসার নামে ডাকাতি শুরু করে দিলো,! \n",
            "Cleaned:\n",
            " মা গো সুদীপাতো ব্যবসার নামে ডাকাতি শুরু করে দিলো   \n",
            " Sentiment:--  -2 \n",
            "\n",
            "Original:\n",
            " ঝালের জন্য চো চো করছেন বুঝলাম কিন্তু একটু পানি খেয়ে নিয়ে ঝামেলাটা কোথায়? \n",
            "Cleaned:\n",
            " ঝালের জন্য চো চো করছেন বুঝলাম কিন্তু একটু পানি খেয়ে নিয়ে ঝামেলাটা কোথায়  \n",
            " Sentiment:--  -1 \n",
            "\n",
            "Original:\n",
            " সব থেকে ফালতু রেস্টুরেন্ট গুলোর একটা। সুদীপা ন্যাকামি করতে করতে দিব্যি পকেট কেটে নিয়ে চলে যাবে \n",
            "Cleaned:\n",
            " সব থেকে ফালতু রেস্টুরেন্ট গুলোর একটা  সুদীপা ন্যাকামি করতে করতে দিব্যি পকেট কেটে নিয়ে চলে যাবে \n",
            " Sentiment:--  -2 \n",
            "\n",
            "Original:\n",
            " আপনি এইভাবে খান কেন? খিদে পেয়ে যায় ডাকবেন যাব খেতে কলকাতার কাছে থাকি ।মাথা দেখিয়ে খেলে কি হবে বললাম আপনি মনে করে হাসবেন তাই না দাদা। \n",
            "Cleaned:\n",
            " আপনি এইভাবে খান কেন  খিদে পেয়ে যায় ডাকবেন যাব খেতে কলকাতার কাছে থাকি  মাথা দেখিয়ে খেলে কি হবে বললাম আপনি মনে করে হাসবেন তাই না দাদা  \n",
            " Sentiment:--  0 \n",
            "\n",
            "Original:\n",
            " ফালতু রেস্টুরেন্ট,বাজে সার্ভিস আর চোরের রেস্টুরেন্ট,যে একবার যাবে দ্বিতীয়বার আর ঐ মুখো হবে না \n",
            "Cleaned:\n",
            " ফালতু রেস্টুরেন্ট বাজে সার্ভিস আর চোরের রেস্টুরেন্ট যে একবার যাবে দ্বিতীয়বার আর ঐ মুখো হবে না \n",
            " Sentiment:--  -2 \n",
            "\n",
            "Original:\n",
            " সারদা, নারদা, রোজভ্যালি, এইসব কান্ড না করলে, এখানে যাওয়া যাবে না। লুঠ শুধু লুঠ। \n",
            "Cleaned:\n",
            " সারদা  নারদা  রোজভ্যালি  এইসব কান্ড না করলে  এখানে যাওয়া যাবে না  লুঠ শুধু লুঠ  \n",
            " Sentiment:--  -2 \n",
            "\n",
            "Original:\n",
            " nan \n",
            "Cleaned:\n",
            "     \n",
            " Sentiment:--  0 \n",
            "\n",
            "Original:\n",
            " সুদীপা একটি বিখ্যাত টিভি চ্যানেলের রান্নার অনুষ্ঠানের সঞ্চালিকা। যেখানে প্রতিদিন একটা করে নতুন তেলের প্যাকেট কাটা হতো। আমি অনেকবার চিঠি দিয়ে জানতে চেয়েছি প্যাকেটের বাকি তেল কোথায় যায়? আমার ধারণা এই রেস্তরাঁতে যায়। ঐ চ্যানেলে সুদীপার হ্যাংলার মতো খাওয়া দেখলেই বোঝা যায় যে মহিলা কি লোভী। এখানকার থেকেও অনেক ভাল রেস্তরাঁ আছে কলকাতায় যেখানে এখানকার থেকে অনেক কম দামে ভালো খাবার পাওয়া যায়। \n",
            "Cleaned:\n",
            " সুদীপা একটি বিখ্যাত টিভি চ্যানেলের রান্নার অনুষ্ঠানের সঞ্চালিকা  যেখানে প্রতিদিন একটা করে নতুন তেলের প্যাকেট কাটা হতো  আমি অনেকবার চিঠি দিয়ে জানতে চেয়েছি প্যাকেটের বাকি তেল কোথায় যায়  আমার ধারণা এই রেস্তরাঁতে যায়  ঐ চ্যানেলে সুদীপার হ্যাংলার মতো খাওয়া দেখলেই বোঝা যায় যে মহিলা কি লোভী  এখানকার থেকেও অনেক ভাল রেস্তরাঁ আছে কলকাতায় যেখানে এখানকার থেকে অনেক কম দামে ভালো খাবার পাওয়া যায়  \n",
            " Sentiment:--  -1 \n",
            "\n",
            "Original:\n",
            " এ তো পুরো ডাকাতি সুদীপা শুধুমাত্র নিজের নাম ভাঙ্গিয়ে এই রেস্টুরেন্টটা চালাচ্ছে এই দামের কারনেই আপনি ছাড়া আর কোনো কাস্টমার ছিলোনা আমাদের কলকাতায় আরো অনেক ভালো ভালোরেস্টুরেন্ট আছে যেখানে আরো কম দামে অনেক ভালো খাবার পাওয়া যায়। \n",
            "Cleaned:\n",
            " এ তো পুরো ডাকাতি সুদীপা শুধুমাত্র নিজের নাম ভাঙ্গিয়ে এই রেস্টুরেন্টটা চালাচ্ছে এই দামের কারনেই আপনি ছাড়া আর কোনো কাস্টমার ছিলোনা আমাদের কলকাতায় আরো অনেক ভালো ভালোরেস্টুরেন্ট আছে যেখানে আরো কম দামে অনেক ভালো খাবার পাওয়া যায়  \n",
            " Sentiment:--  -2 \n",
            "\n",
            "Original:\n",
            " এটার মালিক কি সুদীপা?  জি বাংলার রান্নাঘরের? \n",
            "Cleaned:\n",
            " এটার মালিক কি সুদীপা   জি বাংলার রান্নাঘরের  \n",
            " Sentiment:--  0 \n",
            "\n",
            "Original:\n",
            " মিত্র কাফের ভিডিও দেখে কোনো এক বাংলাদেশি বলেছিল কলকাতা নাকি ফকিরের সহর। আসলে কলকাতা সবার। এর থেকেও অনেক বেশি এক্সপেন্সিভ রেস্টুরেন্ট কলকাতায় আছে। বেশি বড়লোকি চাল দেখাতে গেলে নিজেই ফকির হয়ে যেতে হবে এখানে। কলকাতায় একটা মিল 10000 টাকারও হতে পারে। পাঁচতারা হোটেল গুলো কে না হয় বাদ ই দিলাম। \n",
            "Cleaned:\n",
            " মিত্র কাফের ভিডিও দেখে কোনো এক বাংলাদেশি বলেছিল কলকাতা নাকি ফকিরের সহর  আসলে কলকাতা সবার  এর থেকেও অনেক বেশি এক্সপেন্সিভ রেস্টুরেন্ট কলকাতায় আছে  বেশি বড়লোকি চাল দেখাতে গেলে নিজেই ফকির হয়ে যেতে হবে এখানে  কলকাতায় একটা মিল       টাকারও হতে পারে  পাঁচতারা হোটেল গুলো কে না হয় বাদ ই দিলাম  \n",
            " Sentiment:--  0 \n",
            "\n",
            "Original:\n",
            " অন্যদের মুখে স্বাদের ব্যাপারে বিরূপ মন্তব্য শুনেছিলাম । যাক্ এখন স্বাদটা ভালো করেছে । লোকের পকেট খালি হলেও খালি পেটে বেরিয়ে আসতে হবেনা । \n",
            "Cleaned:\n",
            " অন্যদের মুখে স্বাদের ব্যাপারে বিরূপ মন্তব্য শুনেছিলাম   যাক্ এখন স্বাদটা ভালো করেছে   লোকের পকেট খালি হলেও খালি পেটে বেরিয়ে আসতে হবেনা   \n",
            " Sentiment:--  1 \n",
            "\n",
            "Original:\n",
            " ইন্ডিয়ানরা চোর। গেছ যখন ঠেলা সামলাও। \n",
            "Cleaned:\n",
            " ইন্ডিয়ানরা চোর  গেছ যখন ঠেলা সামলাও  \n",
            " Sentiment:--  -2 \n",
            "\n",
            "Original:\n",
            " আদনান দা , তোমার প্রেসেন্টেশনটা ভালোই লাগলো . \n",
            "Cleaned:\n",
            " আদনান দা   তোমার প্রেসেন্টেশনটা ভালোই লাগলো   \n",
            " Sentiment:--  2 \n",
            "\n",
            "Original:\n",
            " সুদীপা একজন অত্যন্ত সাধারণ ঘরের মেয়ে বৌ ছিল। \n",
            "Cleaned:\n",
            " সুদীপা একজন অত্যন্ত সাধারণ ঘরের মেয়ে বৌ ছিল  \n",
            " Sentiment:--  0 \n",
            "\n",
            "Original:\n",
            " এখন যাকে বিয়ে করেছে ৮বছর তার সঙ্গে একসঙ্গে থেকে জোর করে বিয়ে করেছে (আগের বৌকে তা্রিয়ে \n",
            "Cleaned:\n",
            " এখন যাকে বিয়ে করেছে ৮বছর তার সঙ্গে একসঙ্গে থেকে জোর করে বিয়ে করেছে  আগের বৌকে তা্রিয়ে \n",
            " Sentiment:--  -2 \n",
            "\n",
            "Original:\n",
            " দিয়ে যার একটা বড় ছেলেও আছে) \n",
            "Cleaned:\n",
            " দিয়ে যার একটা বড় ছেলেও আছে  \n",
            " Sentiment:--  0 \n",
            "\n",
            "Original:\n",
            " তাকেও আমার বড় ছেলে বলে সবাইকে ভালমানুষি করে \n",
            "Cleaned:\n",
            " তাকেও আমার বড় ছেলে বলে সবাইকে ভালমানুষি করে \n",
            " Sentiment:--  0 \n",
            "\n",
            "Original:\n",
            " এখন চালাকির দ্বারা নিজে রাজরানি আর নিজের মাকেও নিজের কাছে রেখেছে । \n",
            "Cleaned:\n",
            " এখন চালাকির দ্বারা নিজে রাজরানি আর নিজের মাকেও নিজের কাছে রেখেছে   \n",
            " Sentiment:--  -1 \n",
            "\n",
            "Original:\n",
            " সেও রাজমাতা হয়ে জামাই বাড়ীতেই থাকে \n",
            "Cleaned:\n",
            " সেও রাজমাতা হয়ে জামাই বাড়ীতেই থাকে \n",
            " Sentiment:--  0 \n",
            "\n",
            "Original:\n",
            " ভবিষ্যৎ সুরক্ষিত রাখতে এই বয়েসে মা' ও হয়েছে। \n",
            "Cleaned:\n",
            " ভবিষ্যৎ সুরক্ষিত রাখতে এই বয়েসে মা  ও হয়েছে  \n",
            " Sentiment:--  0 \n",
            "\n",
            "Original:\n",
            " এমন কপাল যে ছেলেই হয়েছে। \n",
            "Cleaned:\n",
            " এমন কপাল যে ছেলেই হয়েছে  \n",
            " Sentiment:--  0 \n",
            "\n",
            "Original:\n",
            " প্রায় রাস্তা থেকে রাজরানি \n",
            "Cleaned:\n",
            " প্রায় রাস্তা থেকে রাজরানি \n",
            " Sentiment:--  -1 \n",
            "\n",
            "Original:\n",
            " কি হাস্যকর ব্যাপার ২৫০ টাকা ভাত \n",
            "Cleaned:\n",
            " কি হাস্যকর ব্যাপার ২৫০ টাকা ভাত \n",
            " Sentiment:--  -2 \n",
            "\n",
            "Original:\n",
            " আপনি কি খান তার চেয় ভালো ফুত পাতের খাবার \n",
            "Cleaned:\n",
            " আপনি কি খান তার চেয় ভালো ফুত পাতের খাবার \n",
            " Sentiment:--  -1 \n",
            "\n",
            "Original:\n",
            " শুভ বিজয়ার আন্তরিক শুভেচ্ছা । \n",
            "Cleaned:\n",
            " শুভ বিজয়ার আন্তরিক শুভেচ্ছা   \n",
            " Sentiment:--  2 \n",
            "\n",
            "Original:\n",
            " কে আসবে এই বালের জায়গায় খেতে! \n",
            "Cleaned:\n",
            " কে আসবে এই বালের জায়গায় খেতে  \n",
            " Sentiment:--  -2 \n",
            "\n",
            "Original:\n",
            " এত দাম ।।।।কারা যে যায় \n",
            "Cleaned:\n",
            " এত দাম     কারা যে যায় \n",
            " Sentiment:--  -1 \n",
            "\n",
            "Original:\n",
            " হারাম হালালের দিকে খেয়াল রাখবেন প্লিজ ভাই \n",
            "Cleaned:\n",
            " হারাম হালালের দিকে খেয়াল রাখবেন প্লিজ ভাই \n",
            " Sentiment:--  0 \n",
            "\n",
            "Original:\n",
            " তরুণ নিকেতন যান দাদা । রাসবিহারী মোর  আর লেক মলের মাঝে । \n",
            "Cleaned:\n",
            " তরুণ নিকেতন যান দাদা   রাসবিহারী মোর  আর লেক মলের মাঝে   \n",
            " Sentiment:--  0 \n",
            "\n",
            "Original:\n",
            " সুদিপা পুলিশের মেযে তো টাকা ছিলতে যানে তবে মাটনটা না খেলেই পারতেন মনে হয হারাম (বলি) \n",
            "Cleaned:\n",
            " সুদিপা পুলিশের মেযে তো টাকা ছিলতে যানে তবে মাটনটা না খেলেই পারতেন মনে হয হারাম  বলি  \n",
            " Sentiment:--  -1 \n",
            "\n",
            "Original:\n",
            " যদি কোনো দিন আপনার পরিবারের কাওকে টেররিস্ট রা ধরে, আর আপনাকে জিগ্গেস করে যে আপনার কাছে মাত্র দুটি অপসেন্স আছে, বলুন এদের কিভাবে মারবো, একেবারে গলা টা কেটে উড়িয়ে দেব? নাকি নলি টা কেটে ছেড়ে দেব, ছটফট করতে করতে শরীরের সব  রক্ত শেষ হয়ে অসহনীয় মৃত্যু যন্ত্রণা দিয়ে মারবো? \n",
            "Cleaned:\n",
            " যদি কোনো দিন আপনার পরিবারের কাওকে টেররিস্ট রা ধরে  আর আপনাকে জিগ্গেস করে যে আপনার কাছে মাত্র দুটি অপসেন্স আছে  বলুন এদের কিভাবে মারবো  একেবারে গলা টা কেটে উড়িয়ে দেব  নাকি নলি টা কেটে ছেড়ে দেব  ছটফট করতে করতে শরীরের সব  রক্ত শেষ হয়ে অসহনীয় মৃত্যু যন্ত্রণা দিয়ে মারবো  \n",
            " Sentiment:--  -2 \n",
            "\n",
            "Original:\n",
            " হালাল করা কোনো মহত কাজ নয়, কাওকে কস্ট দিয়ে মারা 1টা অসুস্থ মানসিকতার পরিচয়। তাই ভেজিটেরিয়ান হতে না পারেন ক্ষতি নেই, খাবেন ই যখন তখন একবারে মেরে খান।  ধর্মগ্রন্থে কিছু লেখা আছে মানেই যে সেটা অশিক্ষিতের মতো মানতে হবে তার কোন মানে নেই, ঈশ্বর আপনাকে নিজের আলাদা একটা মাথা দিয়েছে, ওটা ইউজ করুণ, বস্তা পচা নিয়ম মেনে  অন্যের বুদ্ধিতে চলবেন না, তাতে আপনার ক্ষতি হবে না। আমাদের ধর্মগ্রন্থে ও সতি দাহ ছিল, বিধবা বিবাহ নিষিদ্ধ ছিল,  কিন্তু তা আমরা মানি না, তিন তালাক, হালাল এগুলোই আসলে মানবিকতার কাছে হারাম। \n",
            "Cleaned:\n",
            " হালাল করা কোনো মহত কাজ নয়  কাওকে কস্ট দিয়ে মারা  টা অসুস্থ মানসিকতার পরিচয়  তাই ভেজিটেরিয়ান হতে না পারেন ক্ষতি নেই  খাবেন ই যখন তখন একবারে মেরে খান   ধর্মগ্রন্থে কিছু লেখা আছে মানেই যে সেটা অশিক্ষিতের মতো মানতে হবে তার কোন মানে নেই  ঈশ্বর আপনাকে নিজের আলাদা একটা মাথা দিয়েছে  ওটা ইউজ করুণ  বস্তা পচা নিয়ম মেনে  অন্যের বুদ্ধিতে চলবেন না  তাতে আপনার ক্ষতি হবে না  আমাদের ধর্মগ্রন্থে ও সতি দাহ ছিল  বিধবা বিবাহ নিষিদ্ধ ছিল   কিন্তু তা আমরা মানি না  তিন তালাক  হালাল এগুলোই আসলে মানবিকতার কাছে হারাম  \n",
            " Sentiment:--  0 \n",
            "\n",
            "Original:\n",
            " খুবই বাজে রান্না র পরিমাণ খুব কম। অনেক দাম। রান্না ও বাজে। আমি একবার ই গেছিলাম আর যাবো না \n",
            "Cleaned:\n",
            " খুবই বাজে রান্না র পরিমাণ খুব কম  অনেক দাম  রান্না ও বাজে  আমি একবার ই গেছিলাম আর যাবো না \n",
            " Sentiment:--  -2 \n",
            "\n",
            "Original:\n",
            " আদনান ভাই কিছু মনে করবেন না. সুদীপা র রান্না ঘর খুব কস্টলি এটা জানা কথা. যেটা আপনার এবং সাধারণ মানুষের জানা দরকার. সুদীপা দি কেও যে কাটমানি দিয়ে ব্যবসা চালাতে হয়. চেন সিস্টেমে জনগণের  গাঁটের কড়ি, বাটপার রা ছিনতাই করে চলেছে। \n",
            "Cleaned:\n",
            " আদনান ভাই কিছু মনে করবেন না  সুদীপা র রান্না ঘর খুব কস্টলি এটা জানা কথা  যেটা আপনার এবং সাধারণ মানুষের জানা দরকার  সুদীপা দি কেও যে কাটমানি দিয়ে ব্যবসা চালাতে হয়  চেন সিস্টেমে জনগণের  গাঁটের কড়ি  বাটপার রা ছিনতাই করে চলেছে  \n",
            " Sentiment:--  -2 \n",
            "\n",
            "Original:\n",
            " ধন্যবাদ, ভুলেও ও পথে পা দেবো না। \n",
            "Cleaned:\n",
            " ধন্যবাদ  ভুলেও ও পথে পা দেবো না  \n",
            " Sentiment:--  -1 \n",
            "\n",
            "Original:\n",
            " দুঃখে বুক টা ফেটে গেলো,কি চোর সুদীপা \n",
            "Cleaned:\n",
            " দুঃখে বুক টা ফেটে গেলো কি চোর সুদীপা \n",
            " Sentiment:--  -2 \n",
            "\n",
            "Original:\n",
            " ভাইয়া খাবার গুলো ভালো তবে তারচেয়েও ভালো এবং দারুন আপনার প্রকাশভঙি। \n",
            "Cleaned:\n",
            " ভাইয়া খাবার গুলো ভালো তবে তারচেয়েও ভালো এবং দারুন আপনার প্রকাশভঙি  \n",
            " Sentiment:--  2 \n",
            "\n",
            "Original:\n",
            " সুদীপার রান্নাঘর একটি অত্যন্ত খারাপ রেস্টুরেন্ট। সেরা বাঙালি রেস্টুরেন্ট কলকাতায় এখন কস্তুরী।। \n",
            "Cleaned:\n",
            " সুদীপার রান্নাঘর একটি অত্যন্ত খারাপ রেস্টুরেন্ট  সেরা বাঙালি রেস্টুরেন্ট কলকাতায় এখন কস্তুরী   \n",
            " Sentiment:--  -2 \n",
            "\n",
            "Original:\n",
            " মহানায়ক থালি তো পুরাই ফাঁকিবাজি মনে হচ্ছে। \n",
            "Cleaned:\n",
            " মহানায়ক থালি তো পুরাই ফাঁকিবাজি মনে হচ্ছে  \n",
            " Sentiment:--  -1 \n",
            "\n",
            "Original:\n",
            " এই কারণেই   সুদীপা বুড়ি বয়েসে  মা হতে পেরেও আনকমন ! \n",
            "Cleaned:\n",
            " এই কারণেই   সুদীপা বুড়ি বয়েসে  মা হতে পেরেও আনকমন   \n",
            " Sentiment:--  -1 \n",
            "\n",
            "Original:\n",
            " ভাই তারা তো বলি দেয় আর বলি দিলে তো হারাম হয়ে যায় তো আপনি কি হালাল না হারাম খাবার তা জেনে খান তো? \n",
            "Cleaned:\n",
            " ভাই তারা তো বলি দেয় আর বলি দিলে তো হারাম হয়ে যায় তো আপনি কি হালাল না হারাম খাবার তা জেনে খান তো  \n",
            " Sentiment:--  -1 \n",
            "\n",
            "Original:\n",
            " হালাল করা কোনো মহত কাজ নয়, কাওকে কস্ট দিয়ে মারা 1টা অসুস্থ মানসিকতার পরিচয়। তাই ভেজিটেরিয়ান হতে না পারেন ক্ষতি নেই, খাবেন ই যখন তখন একবারে মেরে খান। ধর্মগ্রন্থে কিছু লেখা আছে মানেই যে সেটা অশিক্ষিতের মতো মানতে হবে তার কোন মানে নেই, ঈশ্বর আপনাকে নিজের আলাদা একটা মাথা দিয়েছে, ওটা ইউজ করুণ, বস্তা পচা নিয়ম মেনে  অন্যের বুদ্ধিতে চলবেন না, তাতে আপনার ক্ষতি হবে না। আমাদের ধর্মগ্রন্থে ও সতি দাহ ছিল কিন্তু তা আমরা মানি না \n",
            "Cleaned:\n",
            " হালাল করা কোনো মহত কাজ নয়  কাওকে কস্ট দিয়ে মারা  টা অসুস্থ মানসিকতার পরিচয়  তাই ভেজিটেরিয়ান হতে না পারেন ক্ষতি নেই  খাবেন ই যখন তখন একবারে মেরে খান  ধর্মগ্রন্থে কিছু লেখা আছে মানেই যে সেটা অশিক্ষিতের মতো মানতে হবে তার কোন মানে নেই  ঈশ্বর আপনাকে নিজের আলাদা একটা মাথা দিয়েছে  ওটা ইউজ করুণ  বস্তা পচা নিয়ম মেনে  অন্যের বুদ্ধিতে চলবেন না  তাতে আপনার ক্ষতি হবে না  আমাদের ধর্মগ্রন্থে ও সতি দাহ ছিল কিন্তু তা আমরা মানি না \n",
            " Sentiment:--  0 \n",
            "\n",
            "Original:\n",
            " মাটন ২৯০ বাপরে  বাংলাদেশে তো আনেক জায়গায় ২৯০ কাচ্চি পাওয়া যায় যেটা দুই জনে খেতে পারবে কলকাতা ও দেখলাম এই দামে আনেক ভালো কাচ্চি পাওয়া যায় এখানে মাটন এত দাম কেন \n",
            "Cleaned:\n",
            " মাটন ২৯০ বাপরে  বাংলাদেশে তো আনেক জায়গায় ২৯০ কাচ্চি পাওয়া যায় যেটা দুই জনে খেতে পারবে কলকাতা ও দেখলাম এই দামে আনেক ভালো কাচ্চি পাওয়া যায় এখানে মাটন এত দাম কেন \n",
            " Sentiment:--  -1 \n",
            "\n",
            "Original:\n",
            " ভিডিও জুড়ে বাজে একটা শব্দ কানে লাগছে খুব \n",
            "Cleaned:\n",
            " ভিডিও জুড়ে বাজে একটা শব্দ কানে লাগছে খুব \n",
            " Sentiment:--  -1 \n",
            "\n",
            "Original:\n",
            " একমাত্র যারা চালবাজি দেখাতে চায় তারাই ওখানে যায়। যারা ওখানে যায় অবশ্যই তাদের  টেক্স রিটার্ন টা চেক্ করা উচিত । \n",
            "Cleaned:\n",
            " একমাত্র যারা চালবাজি দেখাতে চায় তারাই ওখানে যায়  যারা ওখানে যায় অবশ্যই তাদের  টেক্স রিটার্ন টা চেক্ করা উচিত   \n",
            " Sentiment:--  -1 \n",
            "\n",
            "Original:\n",
            " ভাই চরম সত্যি কথা বলার জন্য অশেষ ধন্যবাদ \n",
            "Cleaned:\n",
            " ভাই চরম সত্যি কথা বলার জন্য অশেষ ধন্যবাদ \n",
            " Sentiment:--  2 \n",
            "\n",
            "Original:\n",
            " ভাবছিলাম এবার কলকাতা গেলে এ রেস্টুরেন্টে যাব, সো.ধন্যবাদ হিলোল ভাই \n",
            "Cleaned:\n",
            " ভাবছিলাম এবার কলকাতা গেলে এ রেস্টুরেন্টে যাব  সো ধন্যবাদ হিলোল ভাই \n",
            " Sentiment:--  2 \n",
            "\n",
            "Original:\n",
            " দারুণ বলেছেন। \n",
            "Cleaned:\n",
            " দারুণ বলেছেন  \n",
            " Sentiment:--  2 \n",
            "\n",
            "Original:\n",
            " সুদীপা দি এত্ত টাকা কি করো তুমি হ্যা.?  বাংলাদেশ তোমার রেস্টুরেন্ট হলে ভোক্তা অধিকার এ মামলা দিতাম বুঝেছো.? \n",
            "Cleaned:\n",
            " সুদীপা দি এত্ত টাকা কি করো তুমি হ্যা    বাংলাদেশ তোমার রেস্টুরেন্ট হলে ভোক্তা অধিকার এ মামলা দিতাম বুঝেছো   \n",
            " Sentiment:--  -2 \n",
            "\n",
            "Original:\n",
            " সুদিপা দিদি তো একটা সুপার চিট। বাংলাদেশ থেকে জিবাংলাতে ওনাকে দেখে আমিও এই রেস্টুরেন্টে যাবার প্রস্তুতি নিয়েছিলাম, আল্লাহ বাচাইসে চিট বাটপারের হাতে পড়ি নাই। \n",
            "Cleaned:\n",
            " সুদিপা দিদি তো একটা সুপার চিট  বাংলাদেশ থেকে জিবাংলাতে ওনাকে দেখে আমিও এই রেস্টুরেন্টে যাবার প্রস্তুতি নিয়েছিলাম  আল্লাহ বাচাইসে চিট বাটপারের হাতে পড়ি নাই  \n",
            " Sentiment:--  -2 \n",
            "\n",
            "Original:\n",
            " খুব টেস মার্কা ভিডিওর লেটেস্ট ভার্সন \n",
            "Cleaned:\n",
            " খুব টেস মার্কা ভিডিওর লেটেস্ট ভার্সন \n",
            " Sentiment:--  -1 \n",
            "\n"
          ],
          "name": "stdout"
        }
      ]
    },
    {
      "cell_type": "markdown",
      "metadata": {
        "id": "1WovscYc0Xo6"
      },
      "source": [
        "#Finding the Number of words\n",
        "\n",
        "---\n",
        "\n",
        "\n"
      ]
    },
    {
      "cell_type": "code",
      "metadata": {
        "id": "H9oaU_i15rFj"
      },
      "source": [
        "data['length'] = data['cleaned'].apply(lambda x:len(x.split()))\n",
        "\n",
        "dataset = data.loc[data.length>2]\n",
        "dataset = dataset.reset_index(drop = True)"
      ],
      "execution_count": null,
      "outputs": []
    },
    {
      "cell_type": "code",
      "metadata": {
        "id": "3lUSkjNo5ybr"
      },
      "source": [
        "for i in range(100):\n",
        "  if i>0:\n",
        "    print('Original:\\n',data.Data[i],'\\nCleaned:\\n',\n",
        "           data.cleaned[i],'\\n','Sentiment:-- ',data.Sentiment[i],'\\n',\n",
        "           'number of words ',data.length[i],'\\n')"
      ],
      "execution_count": null,
      "outputs": []
    },
    {
      "cell_type": "markdown",
      "metadata": {
        "id": "2JrgB4e21VCc"
      },
      "source": [
        "#Data Summary:\n",
        "#number of document, words, unique words and most frequent word for eatch sentiment."
      ]
    },
    {
      "cell_type": "code",
      "metadata": {
        "id": "SAqym4O_uxUK"
      },
      "source": [
        "def data_summary(dataset):\n",
        "    \n",
        "    \n",
        "    documents = []\n",
        "    words = []\n",
        "    u_words = []\n",
        "    total_u_words = [word.strip().lower() for t in list(dataset.cleaned) for word in t.strip().split()]\n",
        "    class_label= [k for k,v in dataset.Sentiment.value_counts().to_dict().items()]\n",
        "\n",
        "\n",
        "    for label in class_label: \n",
        "        word_list = [word.strip().lower() for t in list(dataset[dataset.Sentiment==label].cleaned) for word in t.strip().split()]\n",
        "        counts = dict()\n",
        "        for word in word_list:\n",
        "                counts[word] = counts.get(word, 0)+1\n",
        " \n",
        "        ordered = sorted(counts.items(), key= lambda item: item[1],reverse = True)\n",
        "    \n",
        "        documents.append(len(list(dataset[dataset.Sentiment==label].cleaned)))\n",
        "     \n",
        "        words.append(len(word_list))\n",
        "      \n",
        "\n",
        "        u_words.append(len(np.unique(word_list)))\n",
        "       \n",
        "        print(\"\\nClass Name : \",label)\n",
        "        print(\"Number of Documents:{}\".format(len(list(dataset[dataset.Sentiment==label].cleaned))))  \n",
        "        print(\"Number of Words:{}\".format(len(word_list))) \n",
        "        print(\"Number of Unique Words:{}\".format(len(np.unique(word_list)))) \n",
        "        print(\"Most Frequent Words:\\n\")\n",
        "        for k,v in ordered[:10]:\n",
        "              print(\"{}\\t{}\".format(k,v))\n",
        "    print(\"Total Number of Unique Words:{}\".format(len(np.unique(total_u_words))))           \n",
        "   \n",
        "    return documents,words,u_words,class_label\n",
        "\n",
        "\n",
        "documents,words,u_words,class_names = data_summary(dataset)    "
      ],
      "execution_count": null,
      "outputs": []
    },
    {
      "cell_type": "code",
      "metadata": {
        "colab": {
          "base_uri": "https://localhost:8080/",
          "height": 321
        },
        "id": "d9wxkpSz4Mau",
        "outputId": "d067c8c6-74e0-4fb7-9477-a5bce74ffdae"
      },
      "source": [
        "data_matrix = pd.DataFrame({'Total Documents':documents,\n",
        "                            'Total Words':words,\n",
        "                            'Unique Words':u_words,\n",
        "                            'Class Names':class_names})\n",
        "df = pd.melt(data_matrix, id_vars=\"Class Names\", var_name=\"Category\", value_name=\"Values\")\n",
        "plt.figure(figsize=(6, 4))\n",
        "ax = plt.subplot()\n",
        "\n",
        "sns.barplot(data=df,x='Class Names', y='Values' ,hue='Category')\n",
        "ax.set_xlabel('Class Names') \n",
        "ax.set_title('Data Statistics')\n",
        "\n",
        "ax.xaxis.set_ticklabels(class_names, rotation=45);"
      ],
      "execution_count": null,
      "outputs": [
        {
          "output_type": "display_data",
          "data": {
            "image/png": "[encoded data removed]",
            "text/plain": [
              "<Figure size 432x288 with 1 Axes>"
            ]
          },
          "metadata": {
            "tags": []
          }
        }
      ]
    },
    {
      "cell_type": "code",
      "metadata": {
        "colab": {
          "base_uri": "https://localhost:8080/"
        },
        "id": "8c_E8NP64j78",
        "outputId": "6d604aa3-e1e2-43ef-c202-ebb671b30884"
      },
      "source": [
        "#dataset['Sentiment'] = dataset['Sentiment'].apply(str)\n",
        "dataset.dtypes"
      ],
      "execution_count": null,
      "outputs": [
        {
          "output_type": "execute_result",
          "data": {
            "text/plain": [
              "Unnamed: 0     int64\n",
              "Data          object\n",
              "Sentiment      int64\n",
              "cleaned       object\n",
              "length         int64\n",
              "dtype: object"
            ]
          },
          "metadata": {
            "tags": []
          },
          "execution_count": 99
        }
      ]
    },
    {
      "cell_type": "code",
      "metadata": {
        "colab": {
          "base_uri": "https://localhost:8080/"
        },
        "id": "gqlcZVX55P3C",
        "outputId": "1b133a18-de83-48b7-b3c6-87551b371a72"
      },
      "source": [
        "dataset.Sentiment = dataset.Sentiment.replace({-2:-1,2:1})\n",
        "positive = dataset[dataset.Sentiment == 1]\n",
        "negative = dataset[dataset.Sentiment == -1][:4000]\n",
        "dataset = positive.append(negative,ignore_index=True)\n",
        "dataset.Sentiment.value_counts()"
      ],
      "execution_count": null,
      "outputs": [
        {
          "output_type": "execute_result",
          "data": {
            "text/plain": [
              " 1    12203\n",
              "-1     4000\n",
              "Name: Sentiment, dtype: int64"
            ]
          },
          "metadata": {
            "tags": []
          },
          "execution_count": 110
        }
      ]
    },
    {
      "cell_type": "markdown",
      "metadata": {
        "id": "wyUuILrE8Ujg"
      },
      "source": [
        "#Encodeing and spliting of dataset"
      ]
    },
    {
      "cell_type": "code",
      "metadata": {
        "id": "IhgJbFcW7wEo"
      },
      "source": [
        "def label_encoding(sentiment,bool):\n",
        "   \n",
        "    le = LabelEncoder()\n",
        "    le.fit(sentiment)\n",
        "    encoded_labels = le.transform(sentiment)\n",
        "    labels = np.array(encoded_labels)\n",
        "    class_names =le.classes_ \n",
        "    if bool == True:\n",
        "        print(\"\\n\\t\\t\\t===== Label Encoding =====\",\"\\nClass Names:-->\",le.classes_)\n",
        "        for i in sample_data:\n",
        "            print(sentiment[i],' ', encoded_labels[i],'\\n')\n",
        "\n",
        "    return labels\n",
        "\n",
        "\n",
        "def dataset_split(feature_space,sentiment):\n",
        "  \n",
        "    X_train,X_test,y_train,y_test = train_test_split(feature_space,sentiment,train_size = 0.9,\n",
        "                                                  test_size = 0.1,random_state =0)\n",
        "    print(\"Feature Size :======>\",X_train.shape[1])\n",
        "    print(\"\\nDataset Distribution:\\n\")\n",
        "    print(\"\\tSet Name\",\"\\t\\tSize\")\n",
        "    print(\"\\t========\\t\\t======\")\n",
        "\n",
        "    print(\"\\tFull\\t\\t\\t\",feature_space.shape[0],\n",
        "        \"\\n\\tTraining\\t\\t\",X_train.shape[0],\n",
        "        \"\\n\\tTest\\t\\t\\t\",X_test.shape[0])\n",
        "  \n",
        "    return X_train,X_test,y_train,y_test\n"
      ],
      "execution_count": null,
      "outputs": []
    },
    {
      "cell_type": "markdown",
      "metadata": {
        "id": "9MdcHQfa8af3"
      },
      "source": [
        "#Calculating term frequency"
      ]
    },
    {
      "cell_type": "code",
      "metadata": {
        "id": "L_sixW3-8Kvs"
      },
      "source": [
        "            \n",
        "def calc_gram_tfidf(reviews,gram):\n",
        "   \n",
        "    tfidf = TfidfVectorizer(ngram_range=gram,use_idf=True,tokenizer=lambda x: x.split()) \n",
        "    X = tfidf.fit_transform(reviews)\n",
        "    \n",
        "    return tfidf,X\n"
      ],
      "execution_count": null,
      "outputs": []
    },
    {
      "cell_type": "code",
      "metadata": {
        "id": "RJEtzzeC8gts"
      },
      "source": [
        "from sklearn.linear_model import LogisticRegression\n",
        "from sklearn.tree import DecisionTreeClassifier\n",
        "from sklearn.neighbors import KNeighborsClassifier\n",
        "\n",
        "\n",
        "from sklearn.metrics import classification_report,accuracy_score,precision_score,recall_score,f1_score\n",
        "from sklearn.metrics import roc_curve, roc_auc_score\n",
        "from sklearn.metrics import average_precision_score,roc_auc_score, roc_curve, precision_recall_curve"
      ],
      "execution_count": null,
      "outputs": []
    },
    {
      "cell_type": "markdown",
      "metadata": {
        "id": "rAYAGMUv8usS"
      },
      "source": [
        "#Model Defination"
      ]
    },
    {
      "cell_type": "code",
      "metadata": {
        "id": "Hp07vZuE8k6J"
      },
      "source": [
        "def ml_models_defination(): \n",
        "  \n",
        "    \n",
        "    lr_model = LogisticRegression(random_state = 123)\n",
        "    dt_model = DecisionTreeClassifier(criterion = 'entropy', random_state = 0)\n",
        "    knn_model = KNeighborsClassifier(n_neighbors=3, metric = 'minkowski')\n",
        "   \n",
        "    model_names = ['Logistic Regression','Decision Tree','KNN']\n",
        "   \n",
        "    ml_models = [lr_model,dt_model,knn_model]\n",
        " \n",
        "    return ml_models,model_names "
      ],
      "execution_count": null,
      "outputs": []
    },
    {
      "cell_type": "code",
      "metadata": {
        "id": "S4DcRUjE83KS"
      },
      "source": [
        "def model_performace(model,X_train,X_test,y_train,y_test):\n",
        "    \n",
        "    my_dict = {}\n",
        "    model.fit(X_train,y_train)\n",
        "   \n",
        "    pred_y = model.predict(X_test)\n",
        "    my_dict['Accuracy'] = round(accuracy_score(y_test, pred_y),4)*100 \n",
        "    my_dict['Precision'] = round(precision_score(y_test, pred_y),4)*100 \n",
        "    my_dict['Recall'] = round(recall_score(y_test, pred_y),4)*100 \n",
        "    my_dict['F1 Score'] = round(f1_score(y_test, pred_y),4)*100 \n",
        "    \n",
        "    return my_dict  "
      ],
      "execution_count": null,
      "outputs": []
    },
    {
      "cell_type": "code",
      "metadata": {
        "id": "zAFlZqDA9Asj"
      },
      "source": [
        "def performance_table(performance_dict):\n",
        "    \n",
        "    acc_list = []\n",
        "    pr_list = []\n",
        "    re_list = []\n",
        "    f1_list = []\n",
        "    for i in performance_dict.keys():\n",
        "        acc_list.append(performance_dict[i]['Accuracy'])\n",
        "        pr_list.append(performance_dict[i]['Precision'])\n",
        "        re_list.append(performance_dict[i]['Recall'])\n",
        "        f1_list.append(performance_dict[i]['F1 Score'])\n",
        "\n",
        "\n",
        "    model_names = ['LR','DT','KNN']\n",
        "    performance_df = pd.DataFrame({'Accuracy':acc_list,'Precision':pr_list,\n",
        "                                   'Recall':re_list,'F1 Score':f1_list,\n",
        "                                   'Model Name':model_names })\n",
        "    return performance_df "
      ],
      "execution_count": null,
      "outputs": []
    },
    {
      "cell_type": "code",
      "metadata": {
        "colab": {
          "base_uri": "https://localhost:8080/"
        },
        "id": "eZy7ajTVgimU",
        "outputId": "ad9cc86d-75f7-41cc-ec7f-26b717b651cd"
      },
      "source": [
        "from google.colab import drive\n",
        "drive.mount('/content/drive')"
      ],
      "execution_count": null,
      "outputs": [
        {
          "output_type": "stream",
          "text": [
            "Drive already mounted at /content/drive; to attempt to forcibly remount, call drive.mount(\"/content/drive\", force_remount=True).\n"
          ],
          "name": "stdout"
        }
      ]
    },
    {
      "cell_type": "code",
      "metadata": {
        "id": "TdpD67dYGK4q"
      },
      "source": [
        "import sys\n",
        "sys.path.insert(0,'/content/drive/My Drive/Colab Notebooks/AI')\n"
      ],
      "execution_count": null,
      "outputs": []
    },
    {
      "cell_type": "code",
      "metadata": {
        "id": "-BoPX5BHHC0f"
      },
      "source": [
        "  path = '/content/drive/My Drive/Colab Notebooks/AI/' "
      ],
      "execution_count": null,
      "outputs": []
    },
    {
      "cell_type": "code",
      "metadata": {
        "colab": {
          "base_uri": "https://localhost:8080/"
        },
        "id": "ooRoYMTF9Hkl",
        "outputId": "be1de7e8-dca8-4ccd-ed9b-011a819b9126"
      },
      "source": [
        "gram_names = ['Unigram','Bigram','Trigram']\n",
        "ngrams = [(1,1),(1,2),(1,3)]\n",
        "for i,gram in enumerate(ngrams):\n",
        "    tfidf,feature = calc_gram_tfidf(dataset.cleaned,gram)\n",
        "    labels = label_encoding(dataset.Sentiment,False)\n",
        "    X_train,X_test,y_train,y_test = dataset_split(feature,labels) \n",
        "    ml_models,model_names = ml_models_defination()\n",
        "  \n",
        "    accuracy = {f'{model_names[j]}':model_performace(model,X_train,X_test,y_train,y_test) for j,model in enumerate(ml_models)}\n",
        " \n",
        "    #path = '/content/drive/My Drive/Colab Notebooks/AI/'   \n",
        "    with open(path+f'ml_performance_{gram_names[i]}.json', 'w') as f:\n",
        "          json.dump(accuracy, f)"
      ],
      "execution_count": null,
      "outputs": [
        {
          "output_type": "stream",
          "text": [
            "Feature Size :======> 28047\n",
            "\n",
            "Dataset Distribution:\n",
            "\n",
            "\tSet Name \t\tSize\n",
            "\t========\t\t======\n",
            "\tFull\t\t\t 16203 \n",
            "\tTraining\t\t 14582 \n",
            "\tTest\t\t\t 1621\n",
            "Feature Size :======> 176680\n",
            "\n",
            "Dataset Distribution:\n",
            "\n",
            "\tSet Name \t\tSize\n",
            "\t========\t\t======\n",
            "\tFull\t\t\t 16203 \n",
            "\tTraining\t\t 14582 \n",
            "\tTest\t\t\t 1621\n",
            "Feature Size :======> 365170\n",
            "\n",
            "Dataset Distribution:\n",
            "\n",
            "\tSet Name \t\tSize\n",
            "\t========\t\t======\n",
            "\tFull\t\t\t 16203 \n",
            "\tTraining\t\t 14582 \n",
            "\tTest\t\t\t 1621\n"
          ],
          "name": "stdout"
        }
      ]
    },
    {
      "cell_type": "code",
      "metadata": {
        "colab": {
          "base_uri": "https://localhost:8080/"
        },
        "id": "CwIPyYXOHP5p",
        "outputId": "d4cc9eab-4b39-4faa-8f50-9e60a1057a98"
      },
      "source": [
        "gram_names = ['Unigram','Bigram','Trigram']\n",
        "\n",
        "for gram in gram_names:\n",
        "  accuracy = json.load(open(path+f'ml_performance_{gram}.json'))\n",
        "  table = performance_table(accuracy)\n",
        "  print(f\"\\n========== Performace Table for {gram} feature:========\\n\",table)\n",
        "  print(f\"\\n========In case of {gram} feature:========\\n\")\n",
        "  print(f\"Highest Accuracy achieved by {table['Model Name'][table.Accuracy.idxmax(axis = 0)]} at = {max(table.Accuracy)}\")\n",
        "  print(f\"Highest F1-Score achieved by {table['Model Name'][table['F1 Score'].idxmax(axis = 0)]} at = {max(table['F1 Score'] )}\")\n",
        "  print(f\"Highest Precision Score achieved by {table['Model Name'][table['Precision'].idxmax(axis = 0)]} at = {max(table['Precision'] )}\")\n",
        "  print(f\"Highest Recall Score achieved by {table['Model Name'][table['Recall'].idxmax(axis = 0)]} at = {max(table['Recall'] )}\")\n",
        "  "
      ],
      "execution_count": null,
      "outputs": [
        {
          "output_type": "stream",
          "text": [
            "\n",
            "========== Performace Table for Unigram feature:========\n",
            "    Accuracy  Precision  Recall  F1 Score Model Name\n",
            "0     79.77      80.86   96.01     87.79         LR\n",
            "1     75.20      83.09   84.45     83.76         DT\n",
            "2     78.53      82.79   90.47     86.46        KNN\n",
            "\n",
            "========In case of Unigram feature:========\n",
            "\n",
            "Highest Accuracy achieved by LR at = 79.77\n",
            "Highest F1-Score achieved by LR at = 87.79\n",
            "Highest Precision Score achieved by DT at = 83.09\n",
            "Highest Recall Score achieved by LR at = 96.00999999999999\n",
            "\n",
            "========== Performace Table for Bigram feature:========\n",
            "    Accuracy  Precision  Recall  F1 Score Model Name\n",
            "0     78.78      79.00   98.05     87.50         LR\n",
            "1     74.77      82.02   85.42     83.69         DT\n",
            "2     77.54      82.24   89.74     85.83        KNN\n",
            "\n",
            "========In case of Bigram feature:========\n",
            "\n",
            "Highest Accuracy achieved by LR at = 78.78\n",
            "Highest F1-Score achieved by LR at = 87.5\n",
            "Highest Precision Score achieved by KNN at = 82.24000000000001\n",
            "Highest Recall Score achieved by LR at = 98.05\n",
            "\n",
            "========== Performace Table for Trigram feature:========\n",
            "    Accuracy  Precision  Recall  F1 Score Model Name\n",
            "0     77.85      77.73   99.19     87.16         LR\n",
            "1     74.09      82.79   83.06     82.93         DT\n",
            "2     77.36      82.25   89.41     85.68        KNN\n",
            "\n",
            "========In case of Trigram feature:========\n",
            "\n",
            "Highest Accuracy achieved by LR at = 77.85\n",
            "Highest F1-Score achieved by LR at = 87.16000000000001\n",
            "Highest Precision Score achieved by DT at = 82.78999999999999\n",
            "Highest Recall Score achieved by LR at = 99.19\n"
          ],
          "name": "stdout"
        }
      ]
    },
    {
      "cell_type": "code",
      "metadata": {
        "id": "LMBvoySDHVIu"
      },
      "source": [
        "gram_names = ['Unigram','Bigram','Trigram']\n",
        "\n",
        "for gram in gram_names:\n",
        "  accuracy = json.load(open(path+f'ml_performance_{gram}.json'))\n",
        "  table = performance_table(accuracy)\n",
        "  df = pd.melt(table[['Accuracy','F1 Score','Model Name']], id_vars=\"Model Name\", var_name=\"Category\", value_name=\"Values\")\n",
        "  plt.figure(figsize=(10,8))\n",
        "  ax = plt.subplot()\n",
        "  sns.barplot(data=df,x='Model Name', y='Values' ,hue='Category')\n",
        "  ax.set_xlabel('Model Name') \n",
        "  ax.set_title(f'Comparison of Accuracy and F1-Score Value for {gram} Feature')\n",
        "  ax.set_ylim([10,100])\n",
        "  ax.xaxis.set_ticklabels(table['Model Name'], rotation=45);"
      ],
      "execution_count": null,
      "outputs": []
    }
  ]
}